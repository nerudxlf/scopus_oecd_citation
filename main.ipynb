{
  "nbformat": 4,
  "nbformat_minor": 0,
  "metadata": {
    "colab": {
      "name": "main.ipynb",
      "provenance": [],
      "authorship_tag": "ABX9TyNJWXbm29WvaPuDg295i8Tt",
      "include_colab_link": true
    },
    "kernelspec": {
      "name": "python3",
      "display_name": "Python 3"
    }
  },
  "cells": [
    {
      "cell_type": "markdown",
      "metadata": {
        "id": "view-in-github",
        "colab_type": "text"
      },
      "source": [
        "<a href=\"https://colab.research.google.com/github/nerudxlf/scopus_oecd_citation/blob/main/main.ipynb\" target=\"_parent\"><img src=\"https://colab.research.google.com/assets/colab-badge.svg\" alt=\"Open In Colab\"/></a>"
      ]
    },
    {
      "cell_type": "code",
      "metadata": {
        "id": "BC7Sf7EkOwoU"
      },
      "source": [
        "import pandas as pd\r\n",
        "from google.colab import files"
      ],
      "execution_count": null,
      "outputs": []
    },
    {
      "cell_type": "code",
      "metadata": {
        "id": "Ezm1bAuEOo3C"
      },
      "source": [
        "df_scopus_oecd = pd.read_excel('scopus_oecd.xlsx')\r\n",
        "df_scopus_date = pd.read_excel('2020.xlsx')\r\n",
        "df_scopus_citation = pd.read_excel('2016-2020_Scopus_Citedby.xlsx')\r\n",
        "\r\n",
        "df_result_scopus = pd.merge(left=df_scopus_date, right=df_scopus_oecd, left_on='Направление',\r\n",
        "                                  right_on='направление')\r\n",
        "df_result_citation = pd.merge(left=df_scopus_citation, right=df_scopus_oecd, left_on='направление',\r\n",
        "                                right_on='направление')\r\n",
        "\r\n",
        "df_result_citation.to_excel(\"result_scopus_citation.xlsx\")\r\n",
        "df_result_scopus.to_excel(\"result_scopus.xlsx\")"
      ],
      "execution_count": null,
      "outputs": []
    }
  ]
}